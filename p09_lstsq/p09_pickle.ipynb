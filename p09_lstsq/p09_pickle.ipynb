{
 "cells": [
  {
   "cell_type": "markdown",
   "metadata": {},
   "source": [
    "## Сериализация данных в Python\n",
    "\n",
    "Или проще -- модуль pickle.\n",
    "\n",
    "Суть -- сохранение данных в автоматически генерируемом бинарном формате.\n",
    "Важные функции модуля:\n",
    "* dump/dumps\n",
    "* load/loads"
   ]
  },
  {
   "cell_type": "code",
   "execution_count": 1,
   "metadata": {},
   "outputs": [],
   "source": [
    "schedule = {'python': ['Научные вычисления на языке Python', 'Королёв В.С.', 'пт 10:35'],\n",
    "            'english': ['Английский язык', 'VA', 'пт 13:45']}"
   ]
  },
  {
   "cell_type": "code",
   "execution_count": 2,
   "metadata": {},
   "outputs": [],
   "source": [
    "import pickle"
   ]
  },
  {
   "cell_type": "code",
   "execution_count": 7,
   "metadata": {},
   "outputs": [
    {
     "data": {
      "text/plain": [
       "b'\\x80\\x04\\x95\\xb4\\x00\\x00\\x00\\x00\\x00\\x00\\x00}\\x94(\\x8c\\x06python\\x94]\\x94(\\x8c:\\xd0\\x9d\\xd0\\xb0\\xd1\\x83\\xd1\\x87\\xd0\\xbd\\xd1\\x8b\\xd0\\xb5 \\xd0\\xb2\\xd1\\x8b\\xd1\\x87\\xd0\\xb8\\xd1\\x81\\xd0\\xbb\\xd0\\xb5\\xd0\\xbd\\xd0\\xb8\\xd1\\x8f \\xd0\\xbd\\xd0\\xb0 \\xd1\\x8f\\xd0\\xb7\\xd1\\x8b\\xd0\\xba\\xd0\\xb5 Python\\x94\\x8c\\x15\\xd0\\x9a\\xd0\\xbe\\xd1\\x80\\xd0\\xbe\\xd0\\xbb\\xd1\\x91\\xd0\\xb2 \\xd0\\x92.\\xd0\\xa1.\\x94\\x8c\\n\\xd0\\xbf\\xd1\\x82 10:35\\x94e\\x8c\\x07english\\x94]\\x94(\\x8c\\x1d\\xd0\\x90\\xd0\\xbd\\xd0\\xb3\\xd0\\xbb\\xd0\\xb8\\xd0\\xb9\\xd1\\x81\\xd0\\xba\\xd0\\xb8\\xd0\\xb9 \\xd1\\x8f\\xd0\\xb7\\xd1\\x8b\\xd0\\xba\\x94\\x8c\\x02VA\\x94\\x8c\\n\\xd0\\xbf\\xd1\\x82 13:45\\x94eu.'"
      ]
     },
     "execution_count": 7,
     "metadata": {},
     "output_type": "execute_result"
    }
   ],
   "source": [
    "s = pickle.dumps(schedule)\n",
    "s"
   ]
  },
  {
   "cell_type": "code",
   "execution_count": 8,
   "metadata": {},
   "outputs": [
    {
     "data": {
      "text/plain": [
       "{'python': ['Научные вычисления на языке Python', 'Королёв В.С.', 'пт 10:35'],\n",
       " 'english': ['Английский язык', 'VA', 'пт 13:45']}"
      ]
     },
     "execution_count": 8,
     "metadata": {},
     "output_type": "execute_result"
    }
   ],
   "source": [
    "pickle.loads(s)"
   ]
  },
  {
   "cell_type": "code",
   "execution_count": 9,
   "metadata": {},
   "outputs": [],
   "source": [
    "with open('schedule.pickle', 'wb') as file:\n",
    "    pickle.dump(schedule, file)\n",
    "\n",
    "# with open(...) as file:\n",
    "#   ...\n",
    "#\n",
    "# почти аналогичен\n",
    "#\n",
    "# try:\n",
    "#   file = open(...)\n",
    "#   ...\n",
    "# finally:\n",
    "#   file.close()"
   ]
  },
  {
   "cell_type": "code",
   "execution_count": 10,
   "metadata": {},
   "outputs": [
    {
     "data": {
      "text/plain": [
       "{'python': ['Научные вычисления на языке Python', 'Королёв В.С.', 'пт 10:35'],\n",
       " 'english': ['Английский язык', 'VA', 'пт 13:45']}"
      ]
     },
     "metadata": {},
     "output_type": "display_data"
    }
   ],
   "source": [
    "with open('schedule.pickle', 'rb') as file:\n",
    "    display(pickle.load(file))"
   ]
  }
 ],
 "metadata": {
  "kernelspec": {
   "display_name": "Python 3",
   "language": "python",
   "name": "python3"
  },
  "language_info": {
   "codemirror_mode": {
    "name": "ipython",
    "version": 3
   },
   "file_extension": ".py",
   "mimetype": "text/x-python",
   "name": "python",
   "nbconvert_exporter": "python",
   "pygments_lexer": "ipython3",
   "version": "3.8.5"
  }
 },
 "nbformat": 4,
 "nbformat_minor": 4
}
